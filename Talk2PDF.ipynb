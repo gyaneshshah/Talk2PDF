{
 "cells": [
  {
   "cell_type": "code",
   "execution_count": 4,
   "id": "424ea396-8d6a-4da2-a7f1-8d64a8d485cc",
   "metadata": {},
   "outputs": [
    {
     "name": "stdout",
     "output_type": "stream",
     "text": [
      "Note: you may need to restart the kernel to use updated packages.\n"
     ]
    }
   ],
   "source": [
    "pip install -r ./requirements.txt -q"
   ]
  },
  {
   "cell_type": "code",
   "execution_count": 5,
   "id": "76c6f9cb-a22b-4493-81a3-2d4a2354a264",
   "metadata": {},
   "outputs": [
    {
     "data": {
      "text/plain": [
       "True"
      ]
     },
     "execution_count": 5,
     "metadata": {},
     "output_type": "execute_result"
    }
   ],
   "source": [
    "import os\n",
    "from dotenv import load_dotenv, find_dotenv\n",
    "load_dotenv(find_dotenv(), override=True)"
   ]
  },
  {
   "cell_type": "code",
   "execution_count": 6,
   "id": "99283871-2154-4f3d-8d7b-77b2cce3c07f",
   "metadata": {},
   "outputs": [],
   "source": [
    "def load_pdf(file):\n",
    "    from langchain.document_loaders import PyPDFLoader\n",
    "    print(f'Loading {file}')\n",
    "    loader = PyPDFLoader(file)\n",
    "    data = loader.load()\n",
    "    return data"
   ]
  },
  {
   "cell_type": "code",
   "execution_count": 9,
   "id": "f3f3318d-6e05-42de-9357-cda9d38723cc",
   "metadata": {},
   "outputs": [
    {
     "name": "stdout",
     "output_type": "stream",
     "text": [
      "Loading ./test.pdf\n",
      "There are 259 pages in your PDF\n"
     ]
    }
   ],
   "source": [
    "# Testing the load_pdf function on test.pdf\n",
    "data = load_pdf('./test.pdf')\n",
    "\n",
    "#print(data[5].page_content)\n",
    "#print(data[10].metadata)\n",
    "#print(f'There are {len(data)} pages in your PDF')"
   ]
  },
  {
   "cell_type": "code",
   "execution_count": 10,
   "id": "aed210f7-1501-4785-8f15-0893e78d44be",
   "metadata": {},
   "outputs": [],
   "source": [
    "def chunk_data(data, chunk_size=256):\n",
    "    from langchain.text_splitter import RecursiveCharacterTextSplitter\n",
    "    text_splitter = RecursiveCharacterTextSplitter(chunk_size=chunk_size, chunk_overlap=0)\n",
    "    chunks = text_splitter.split_documents(data)\n",
    "    return chunks"
   ]
  },
  {
   "cell_type": "code",
   "execution_count": null,
   "id": "dc969f54-d3aa-45da-a6f5-95f7a691a7d7",
   "metadata": {},
   "outputs": [],
   "source": []
  }
 ],
 "metadata": {
  "kernelspec": {
   "display_name": "Python 3 (ipykernel)",
   "language": "python",
   "name": "python3"
  },
  "language_info": {
   "codemirror_mode": {
    "name": "ipython",
    "version": 3
   },
   "file_extension": ".py",
   "mimetype": "text/x-python",
   "name": "python",
   "nbconvert_exporter": "python",
   "pygments_lexer": "ipython3",
   "version": "3.11.5"
  }
 },
 "nbformat": 4,
 "nbformat_minor": 5
}
